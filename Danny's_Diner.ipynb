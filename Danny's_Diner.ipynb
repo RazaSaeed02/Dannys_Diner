{
 "cells": [
  {
   "cell_type": "markdown",
   "id": "d2d246c1",
   "metadata": {},
   "source": [
    "# Project: Danny's Diner"
   ]
  },
  {
   "cell_type": "markdown",
   "id": "71f3e0c9",
   "metadata": {},
   "source": [
    "## Problem Statement"
   ]
  },
  {
   "cell_type": "markdown",
   "id": "0cc1ca7a",
   "metadata": {},
   "source": [
    "* Danny’s Diner is in need of your assistance to help the restaurant stay afloat. The restaurant has captured some very basic data from their few months of operation.\n",
    "* Danny wants to use the data to answer a few simple questions about his customers. He wants information about their visiting patterns, how much money they’ve spent and also which menu items are their favourite. Having this deeper connection with his customers will help him deliver a better and more personalised experience for his loyal customers."
   ]
  },
  {
   "cell_type": "markdown",
   "id": "972df4c7",
   "metadata": {},
   "source": [
    "### Connect to SQL"
   ]
  },
  {
   "cell_type": "code",
   "execution_count": 2,
   "id": "fe90e14d",
   "metadata": {},
   "outputs": [],
   "source": [
    "%%capture\n",
    "%load_ext sql\n",
    "%sql sqlite://"
   ]
  },
  {
   "cell_type": "markdown",
   "id": "b7ba78a3",
   "metadata": {},
   "source": [
    "### Sales Table"
   ]
  },
  {
   "cell_type": "markdown",
   "id": "615f4fd9",
   "metadata": {},
   "source": [
    "* The sales table captures all customer_id level purchases with a corresponding order_date and product_id information for when and what menu items were ordered."
   ]
  },
  {
   "cell_type": "code",
   "execution_count": 3,
   "id": "970debe1",
   "metadata": {},
   "outputs": [
    {
     "name": "stdout",
     "output_type": "stream",
     "text": [
      " * sqlite://\n",
      "Done.\n",
      "15 rows affected.\n"
     ]
    },
    {
     "data": {
      "text/plain": [
       "[]"
      ]
     },
     "execution_count": 3,
     "metadata": {},
     "output_type": "execute_result"
    }
   ],
   "source": [
    "%%sql\n",
    "CREATE TABLE sales (\n",
    "  \"customer_id\" VARCHAR(1),\n",
    "  \"order_date\" DATE,\n",
    "  \"product_id\" INTEGER\n",
    ");\n",
    "\n",
    "INSERT INTO sales\n",
    "VALUES\n",
    "  ('A', '2021-01-01', '1'),\n",
    "  ('A', '2021-01-01', '2'),\n",
    "  ('A', '2021-01-07', '2'),\n",
    "  ('A', '2021-01-10', '3'),\n",
    "  ('A', '2021-01-11', '3'),\n",
    "  ('A', '2021-01-11', '3'),\n",
    "  ('B', '2021-01-01', '2'),\n",
    "  ('B', '2021-01-02', '2'),\n",
    "  ('B', '2021-01-04', '1'),\n",
    "  ('B', '2021-01-11', '1'),\n",
    "  ('B', '2021-01-16', '3'),\n",
    "  ('B', '2021-02-01', '3'),\n",
    "  ('C', '2021-01-01', '3'),\n",
    "  ('C', '2021-01-01', '3'),\n",
    "  ('C', '2021-01-07', '3');"
   ]
  },
  {
   "cell_type": "markdown",
   "id": "151b310b",
   "metadata": {},
   "source": [
    "### Menu Table"
   ]
  },
  {
   "cell_type": "markdown",
   "id": "d235c4a5",
   "metadata": {},
   "source": [
    "The menu table maps the product_id to the actual product_name and price of each menu item."
   ]
  },
  {
   "cell_type": "code",
   "execution_count": 4,
   "id": "ce0a2454",
   "metadata": {},
   "outputs": [
    {
     "name": "stdout",
     "output_type": "stream",
     "text": [
      " * sqlite://\n",
      "Done.\n",
      "3 rows affected.\n"
     ]
    },
    {
     "data": {
      "text/plain": [
       "[]"
      ]
     },
     "execution_count": 4,
     "metadata": {},
     "output_type": "execute_result"
    }
   ],
   "source": [
    "%%sql\n",
    "CREATE TABLE menu (\n",
    "  \"product_id\" INTEGER,\n",
    "  \"product_name\" VARCHAR(5),\n",
    "  \"price\" INTEGER\n",
    ");\n",
    "\n",
    "INSERT INTO menu\n",
    "VALUES\n",
    "  ('1', 'sushi', '10'),\n",
    "  ('2', 'curry', '15'),\n",
    "  ('3', 'ramen', '12');\n",
    "  "
   ]
  },
  {
   "cell_type": "markdown",
   "id": "b580f2d9",
   "metadata": {},
   "source": [
    "### Members Table"
   ]
  },
  {
   "cell_type": "markdown",
   "id": "f9733dfe",
   "metadata": {},
   "source": [
    "* The members table captures the join_date when a customer_id joined the beta version of the Danny’s Diner loyalty program."
   ]
  },
  {
   "cell_type": "code",
   "execution_count": 5,
   "id": "fb425e3d",
   "metadata": {},
   "outputs": [
    {
     "name": "stdout",
     "output_type": "stream",
     "text": [
      " * sqlite://\n",
      "Done.\n",
      "2 rows affected.\n"
     ]
    },
    {
     "data": {
      "text/plain": [
       "[]"
      ]
     },
     "execution_count": 5,
     "metadata": {},
     "output_type": "execute_result"
    }
   ],
   "source": [
    "%%sql\n",
    "CREATE TABLE members (\n",
    "  \"customer_id\" VARCHAR(1),\n",
    "  \"join_date\" DATE\n",
    ");\n",
    "\n",
    "INSERT INTO members\n",
    "VALUES\n",
    "  ('A', '2021-01-07'),\n",
    "  ('B', '2021-01-09');"
   ]
  },
  {
   "cell_type": "markdown",
   "id": "52a33fdd",
   "metadata": {},
   "source": [
    "### 1. What is the total amount each customer spent at the restaurant?"
   ]
  },
  {
   "cell_type": "code",
   "execution_count": 6,
   "id": "95ec10eb",
   "metadata": {},
   "outputs": [
    {
     "name": "stdout",
     "output_type": "stream",
     "text": [
      " * sqlite://\n",
      "Done.\n"
     ]
    },
    {
     "data": {
      "text/html": [
       "<table>\n",
       "    <thead>\n",
       "        <tr>\n",
       "            <th>customer_id</th>\n",
       "            <th>total_spent</th>\n",
       "        </tr>\n",
       "    </thead>\n",
       "    <tbody>\n",
       "        <tr>\n",
       "            <td>A</td>\n",
       "            <td>76</td>\n",
       "        </tr>\n",
       "        <tr>\n",
       "            <td>B</td>\n",
       "            <td>74</td>\n",
       "        </tr>\n",
       "        <tr>\n",
       "            <td>C</td>\n",
       "            <td>36</td>\n",
       "        </tr>\n",
       "    </tbody>\n",
       "</table>"
      ],
      "text/plain": [
       "[('A', 76), ('B', 74), ('C', 36)]"
      ]
     },
     "execution_count": 6,
     "metadata": {},
     "output_type": "execute_result"
    }
   ],
   "source": [
    "%%sql\n",
    "SELECT\n",
    "    sales.customer_id,\n",
    "    SUM(price) as total_spent\n",
    "FROM sales\n",
    "JOIN menu\n",
    "ON sales.product_id = menu.product_id\n",
    "GROUP BY 1"
   ]
  },
  {
   "cell_type": "markdown",
   "id": "e5d6cffc",
   "metadata": {},
   "source": [
    "- Customer A spent 76 dollars, customer B spent 74 dollars and customer C spent 36 dollars."
   ]
  },
  {
   "cell_type": "markdown",
   "id": "ca144816",
   "metadata": {},
   "source": [
    "### 2. How many days has each customer visited the restaurant?"
   ]
  },
  {
   "cell_type": "code",
   "execution_count": 7,
   "id": "e9771b06",
   "metadata": {},
   "outputs": [
    {
     "name": "stdout",
     "output_type": "stream",
     "text": [
      " * sqlite://\n",
      "Done.\n"
     ]
    },
    {
     "data": {
      "text/html": [
       "<table>\n",
       "    <thead>\n",
       "        <tr>\n",
       "            <th>customer_id</th>\n",
       "            <th>days_visited</th>\n",
       "        </tr>\n",
       "    </thead>\n",
       "    <tbody>\n",
       "        <tr>\n",
       "            <td>A</td>\n",
       "            <td>4</td>\n",
       "        </tr>\n",
       "        <tr>\n",
       "            <td>B</td>\n",
       "            <td>6</td>\n",
       "        </tr>\n",
       "        <tr>\n",
       "            <td>C</td>\n",
       "            <td>2</td>\n",
       "        </tr>\n",
       "    </tbody>\n",
       "</table>"
      ],
      "text/plain": [
       "[('A', 4), ('B', 6), ('C', 2)]"
      ]
     },
     "execution_count": 7,
     "metadata": {},
     "output_type": "execute_result"
    }
   ],
   "source": [
    "%%sql\n",
    "SELECT \n",
    "    customer_id,\n",
    "    COUNT(DISTINCT order_date) as days_visited\n",
    "FROM sales\n",
    "GROUP BY 1"
   ]
  },
  {
   "cell_type": "markdown",
   "id": "04b0094b",
   "metadata": {},
   "source": [
    "* Customer A visited on 4 days, customer B visited 6 days and customer C visited only twice."
   ]
  },
  {
   "cell_type": "markdown",
   "id": "869fcd1c",
   "metadata": {},
   "source": [
    "### 3. What was the first item from the menu purchased by each customer?"
   ]
  },
  {
   "cell_type": "code",
   "execution_count": 8,
   "id": "f2626225",
   "metadata": {},
   "outputs": [
    {
     "name": "stdout",
     "output_type": "stream",
     "text": [
      " * sqlite://\n",
      "Done.\n"
     ]
    },
    {
     "data": {
      "text/html": [
       "<table>\n",
       "    <thead>\n",
       "        <tr>\n",
       "            <th>customer_id</th>\n",
       "            <th>first_item</th>\n",
       "        </tr>\n",
       "    </thead>\n",
       "    <tbody>\n",
       "        <tr>\n",
       "            <td>A</td>\n",
       "            <td>sushi</td>\n",
       "        </tr>\n",
       "        <tr>\n",
       "            <td>B</td>\n",
       "            <td>curry</td>\n",
       "        </tr>\n",
       "        <tr>\n",
       "            <td>C</td>\n",
       "            <td>ramen</td>\n",
       "        </tr>\n",
       "    </tbody>\n",
       "</table>"
      ],
      "text/plain": [
       "[('A', 'sushi'), ('B', 'curry'), ('C', 'ramen')]"
      ]
     },
     "execution_count": 8,
     "metadata": {},
     "output_type": "execute_result"
    }
   ],
   "source": [
    "%%sql\n",
    "SELECT \n",
    "    sales.customer_id,\n",
    "    menu.product_name as first_item\n",
    "FROM sales\n",
    "JOIN menu \n",
    "ON sales.product_id = menu.product_id\n",
    "WHERE sales.order_date = (\n",
    "  SELECT MIN(order_date)\n",
    "  FROM sales\n",
    ")\n",
    "GROUP BY 1"
   ]
  },
  {
   "cell_type": "markdown",
   "id": "be11bdd3",
   "metadata": {},
   "source": [
    "* Customer A ordered sushi first, customer B ordered curry first, and customer C ordered ramen first."
   ]
  },
  {
   "cell_type": "markdown",
   "id": "e774e7b9",
   "metadata": {},
   "source": [
    "### 4. What is the most purchased item on the menu and how many times was it purchased by all customers?"
   ]
  },
  {
   "cell_type": "code",
   "execution_count": 9,
   "id": "c8955733",
   "metadata": {},
   "outputs": [
    {
     "name": "stdout",
     "output_type": "stream",
     "text": [
      " * sqlite://\n",
      "Done.\n"
     ]
    },
    {
     "data": {
      "text/html": [
       "<table>\n",
       "    <thead>\n",
       "        <tr>\n",
       "            <th>product_name</th>\n",
       "            <th>times_purchased</th>\n",
       "        </tr>\n",
       "    </thead>\n",
       "    <tbody>\n",
       "        <tr>\n",
       "            <td>ramen</td>\n",
       "            <td>8</td>\n",
       "        </tr>\n",
       "    </tbody>\n",
       "</table>"
      ],
      "text/plain": [
       "[('ramen', 8)]"
      ]
     },
     "execution_count": 9,
     "metadata": {},
     "output_type": "execute_result"
    }
   ],
   "source": [
    "%%sql\n",
    "SELECT\n",
    "    menu.product_name,\n",
    "    COUNT(sales.product_id) as times_purchased\n",
    "FROM sales\n",
    "JOIN menu\n",
    "ON sales.product_id = menu.product_id\n",
    "GROUP BY 1\n",
    "ORDER BY 2 DESC\n",
    "LIMIT 1"
   ]
  },
  {
   "cell_type": "markdown",
   "id": "fb12238f",
   "metadata": {},
   "source": [
    "* The most purchased item on the menu was Ramen which was purchased 8 times."
   ]
  },
  {
   "cell_type": "markdown",
   "id": "bb2e3f57",
   "metadata": {},
   "source": [
    "### 5. Which item was the most popular for each customer?"
   ]
  },
  {
   "cell_type": "code",
   "execution_count": 10,
   "id": "2eef3bad",
   "metadata": {},
   "outputs": [
    {
     "name": "stdout",
     "output_type": "stream",
     "text": [
      " * sqlite://\n",
      "Done.\n"
     ]
    },
    {
     "data": {
      "text/html": [
       "<table>\n",
       "    <thead>\n",
       "        <tr>\n",
       "            <th>customer_id</th>\n",
       "            <th>product_name</th>\n",
       "            <th>most_purchased</th>\n",
       "        </tr>\n",
       "    </thead>\n",
       "    <tbody>\n",
       "        <tr>\n",
       "            <td>A</td>\n",
       "            <td>ramen</td>\n",
       "            <td>3</td>\n",
       "        </tr>\n",
       "        <tr>\n",
       "            <td>B</td>\n",
       "            <td>sushi</td>\n",
       "            <td>2</td>\n",
       "        </tr>\n",
       "        <tr>\n",
       "            <td>C</td>\n",
       "            <td>ramen</td>\n",
       "            <td>3</td>\n",
       "        </tr>\n",
       "    </tbody>\n",
       "</table>"
      ],
      "text/plain": [
       "[('A', 'ramen', 3), ('B', 'sushi', 2), ('C', 'ramen', 3)]"
      ]
     },
     "execution_count": 10,
     "metadata": {},
     "output_type": "execute_result"
    }
   ],
   "source": [
    "%%sql\n",
    "WITH t1 AS (\n",
    "SELECT\n",
    "    sales.customer_id,\n",
    "    menu.product_name,\n",
    "    COUNT(menu.product_id) as purchase_count\n",
    "FROM sales\n",
    "JOIN menu\n",
    "ON sales.product_id = menu.product_id\n",
    "GROUP BY 1, 2\n",
    "ORDER BY 1, 3 DESC\n",
    ")\n",
    "\n",
    "SELECT \n",
    "    customer_id,\n",
    "    menu.product_name,\n",
    "    MAX(purchase_count) as most_purchased\n",
    "FROM t1\n",
    "JOIN menu\n",
    "ON t1.product_name = menu.product_name\n",
    "GROUP BY 1"
   ]
  },
  {
   "cell_type": "markdown",
   "id": "71119a77",
   "metadata": {},
   "source": [
    "* The most popular item for customers A and C was Ramen with 3 orders each while customer B ordered Sushi the most with 2 orders. "
   ]
  },
  {
   "cell_type": "markdown",
   "id": "7fe56748",
   "metadata": {},
   "source": [
    "### 6. Which item was purchased first by the customer after they became a member?"
   ]
  },
  {
   "cell_type": "code",
   "execution_count": 11,
   "id": "ca8feae5",
   "metadata": {},
   "outputs": [
    {
     "name": "stdout",
     "output_type": "stream",
     "text": [
      " * sqlite://\n",
      "Done.\n"
     ]
    },
    {
     "data": {
      "text/html": [
       "<table>\n",
       "    <thead>\n",
       "        <tr>\n",
       "            <th>customer_id</th>\n",
       "            <th>order_date</th>\n",
       "            <th>product_name</th>\n",
       "        </tr>\n",
       "    </thead>\n",
       "    <tbody>\n",
       "        <tr>\n",
       "            <td>A</td>\n",
       "            <td>2021-01-07</td>\n",
       "            <td>curry</td>\n",
       "        </tr>\n",
       "        <tr>\n",
       "            <td>B</td>\n",
       "            <td>2021-01-11</td>\n",
       "            <td>sushi</td>\n",
       "        </tr>\n",
       "    </tbody>\n",
       "</table>"
      ],
      "text/plain": [
       "[('A', '2021-01-07', 'curry'), ('B', '2021-01-11', 'sushi')]"
      ]
     },
     "execution_count": 11,
     "metadata": {},
     "output_type": "execute_result"
    }
   ],
   "source": [
    "%%sql\n",
    "WITH first_purchase AS (\n",
    "SELECT \n",
    "    sales.customer_id, \n",
    "    MIN(sales.order_date) AS first_purchase_date\n",
    "FROM sales\n",
    "JOIN members \n",
    "ON sales.customer_id = members.customer_id\n",
    "WHERE sales.order_date >= members.join_date\n",
    "GROUP BY sales.customer_id\n",
    ")\n",
    "\n",
    "SELECT \n",
    "    sales.customer_id, \n",
    "    sales.order_date, \n",
    "    menu.product_name\n",
    "FROM first_purchase\n",
    "JOIN sales\n",
    "ON first_purchase.customer_id = sales.customer_id AND first_purchase.first_purchase_date = sales.order_date\n",
    "JOIN menu\n",
    "ON sales.product_id = menu.product_id\n",
    "ORDER BY 1"
   ]
  },
  {
   "cell_type": "markdown",
   "id": "e986fe02",
   "metadata": {},
   "source": [
    "* Customer A ordered Curry first after they became a member while Customer B ordered Sushi."
   ]
  },
  {
   "cell_type": "markdown",
   "id": "b0af11f4",
   "metadata": {},
   "source": [
    "### 7. Which item was purchased just before the customer became a member?"
   ]
  },
  {
   "cell_type": "code",
   "execution_count": 23,
   "id": "34e37a14",
   "metadata": {},
   "outputs": [
    {
     "name": "stdout",
     "output_type": "stream",
     "text": [
      " * sqlite://\n",
      "Done.\n"
     ]
    },
    {
     "data": {
      "text/html": [
       "<table>\n",
       "    <thead>\n",
       "        <tr>\n",
       "            <th>customer_id</th>\n",
       "            <th>order_date</th>\n",
       "            <th>product_name</th>\n",
       "        </tr>\n",
       "    </thead>\n",
       "    <tbody>\n",
       "        <tr>\n",
       "            <td>A</td>\n",
       "            <td>2021-01-01</td>\n",
       "            <td>sushi</td>\n",
       "        </tr>\n",
       "        <tr>\n",
       "            <td>A</td>\n",
       "            <td>2021-01-01</td>\n",
       "            <td>curry</td>\n",
       "        </tr>\n",
       "        <tr>\n",
       "            <td>B</td>\n",
       "            <td>2021-01-04</td>\n",
       "            <td>sushi</td>\n",
       "        </tr>\n",
       "    </tbody>\n",
       "</table>"
      ],
      "text/plain": [
       "[('A', '2021-01-01', 'sushi'),\n",
       " ('A', '2021-01-01', 'curry'),\n",
       " ('B', '2021-01-04', 'sushi')]"
      ]
     },
     "execution_count": 23,
     "metadata": {},
     "output_type": "execute_result"
    }
   ],
   "source": [
    "%%sql\n",
    "WITH last_purchase AS (\n",
    "    SELECT \n",
    "        sales.customer_id, \n",
    "        MAX(sales.order_date) AS last_purchase_date\n",
    "    FROM sales\n",
    "    JOIN members \n",
    "    ON sales.customer_id = members.customer_id\n",
    "    WHERE sales.order_date < members.join_date\n",
    "    GROUP BY sales.customer_id\n",
    ")\n",
    "\n",
    "SELECT\n",
    "    sales.customer_id,\n",
    "    sales.order_date,\n",
    "    product_name\n",
    "FROM last_purchase\n",
    "JOIN sales\n",
    "ON last_purchase.customer_id = sales.customer_id AND last_purchase.last_purchase_date = sales.order_date\n",
    "JOIN menu\n",
    "ON sales.product_id = menu.product_id"
   ]
  },
  {
   "cell_type": "markdown",
   "id": "60199774",
   "metadata": {},
   "source": [
    "* The last order Customer A had before becoming a member was Curry.\n",
    "* The last order Customer B had before becoming a member was Sushi."
   ]
  },
  {
   "cell_type": "markdown",
   "id": "e6dcd8e7",
   "metadata": {},
   "source": [
    "### 8. What is the amount spent for each member before they became a member?"
   ]
  },
  {
   "cell_type": "code",
   "execution_count": 33,
   "id": "3d312874",
   "metadata": {},
   "outputs": [
    {
     "name": "stdout",
     "output_type": "stream",
     "text": [
      " * sqlite://\n",
      "Done.\n"
     ]
    },
    {
     "data": {
      "text/html": [
       "<table>\n",
       "    <thead>\n",
       "        <tr>\n",
       "            <th>customer_id</th>\n",
       "            <th>total_spent</th>\n",
       "        </tr>\n",
       "    </thead>\n",
       "    <tbody>\n",
       "        <tr>\n",
       "            <td>A</td>\n",
       "            <td>25</td>\n",
       "        </tr>\n",
       "        <tr>\n",
       "            <td>B</td>\n",
       "            <td>40</td>\n",
       "        </tr>\n",
       "    </tbody>\n",
       "</table>"
      ],
      "text/plain": [
       "[('A', 25), ('B', 40)]"
      ]
     },
     "execution_count": 33,
     "metadata": {},
     "output_type": "execute_result"
    }
   ],
   "source": [
    "%%sql\n",
    "SELECT\n",
    "    sales.customer_id,\n",
    "    SUM(price) as total_spent\n",
    "FROM sales\n",
    "JOIN menu\n",
    "ON sales.product_id = menu.product_id\n",
    "JOIN members \n",
    "ON sales.customer_id = members.customer_id\n",
    "WHERE order_date < join_date\n",
    "GROUP BY 1"
   ]
  },
  {
   "cell_type": "markdown",
   "id": "8043d7d6",
   "metadata": {},
   "source": [
    "* Customer A spent 25 dollars prior to becoming a member while Customer C spent 40 dollars."
   ]
  },
  {
   "cell_type": "markdown",
   "id": "ad4528c2",
   "metadata": {},
   "source": [
    "### 9. If each 1 dollar spent equates to 10 points and sushi has a 2x points multiplier - How many points would each customer have?"
   ]
  },
  {
   "cell_type": "code",
   "execution_count": 39,
   "id": "cf7bb6a5",
   "metadata": {},
   "outputs": [
    {
     "name": "stdout",
     "output_type": "stream",
     "text": [
      " * sqlite://\n",
      "Done.\n"
     ]
    },
    {
     "data": {
      "text/html": [
       "<table>\n",
       "    <thead>\n",
       "        <tr>\n",
       "            <th>customer_id</th>\n",
       "            <th>points_earned</th>\n",
       "        </tr>\n",
       "    </thead>\n",
       "    <tbody>\n",
       "        <tr>\n",
       "            <td>B</td>\n",
       "            <td>940</td>\n",
       "        </tr>\n",
       "        <tr>\n",
       "            <td>A</td>\n",
       "            <td>860</td>\n",
       "        </tr>\n",
       "        <tr>\n",
       "            <td>C</td>\n",
       "            <td>360</td>\n",
       "        </tr>\n",
       "    </tbody>\n",
       "</table>"
      ],
      "text/plain": [
       "[('B', 940), ('A', 860), ('C', 360)]"
      ]
     },
     "execution_count": 39,
     "metadata": {},
     "output_type": "execute_result"
    }
   ],
   "source": [
    "%%sql\n",
    "SELECT\n",
    "    sales.customer_id,\n",
    "    SUM(CASE WHEN menu.product_name = 'sushi' THEN (menu.price * 20)\n",
    "        ELSE (menu.price * 10)\n",
    "        END) as points_earned\n",
    "FROM sales\n",
    "JOIN menu\n",
    "ON sales.product_id = menu.product_id\n",
    "GROUP BY 1\n",
    "ORDER BY 2 DESC\n"
   ]
  },
  {
   "cell_type": "markdown",
   "id": "56a9c9b6",
   "metadata": {},
   "source": [
    "* Customer B has earned the most points with 940, followed by Customer A with 860 points and Customer C with 360 points."
   ]
  },
  {
   "cell_type": "markdown",
   "id": "9347e4c4",
   "metadata": {},
   "source": [
    "### 10. In the first week after a customer joins the program (including their join date) they earn 2x points on all items, not just sushi - how many points do customer A and B have at the end of January?"
   ]
  },
  {
   "cell_type": "code",
   "execution_count": 137,
   "id": "a7091401",
   "metadata": {},
   "outputs": [
    {
     "name": "stdout",
     "output_type": "stream",
     "text": [
      " * sqlite://\n",
      "Done.\n"
     ]
    },
    {
     "data": {
      "text/html": [
       "<table>\n",
       "    <thead>\n",
       "        <tr>\n",
       "            <th>customer_id</th>\n",
       "            <th>points_earned</th>\n",
       "        </tr>\n",
       "    </thead>\n",
       "    <tbody>\n",
       "        <tr>\n",
       "            <td>A</td>\n",
       "            <td>860</td>\n",
       "        </tr>\n",
       "        <tr>\n",
       "            <td>B</td>\n",
       "            <td>820</td>\n",
       "        </tr>\n",
       "    </tbody>\n",
       "</table>"
      ],
      "text/plain": [
       "[('A', 860), ('B', 820)]"
      ]
     },
     "execution_count": 137,
     "metadata": {},
     "output_type": "execute_result"
    }
   ],
   "source": [
    "%%sql\n",
    "SELECT \n",
    "    sales.customer_id, \n",
    "    SUM(CASE WHEN sales.order_date >= members.join_date AND sales.order_date < (members.join_date + 'INTERVAL 7 days')\n",
    "    OR (menu.product_name = 'sushi') THEN (menu.price * 20)\n",
    "    ELSE (menu.price * 10)\n",
    "    END) as points_earned\n",
    "FROM sales\n",
    "JOIN menu\n",
    "ON sales.product_id = menu.product_id\n",
    "JOIN members\n",
    "ON sales.customer_id = members.customer_id\n",
    "WHERE sales.order_date <= '2021-01-31'\n",
    "GROUP BY 1\n"
   ]
  },
  {
   "cell_type": "markdown",
   "id": "0808a339",
   "metadata": {},
   "source": [
    "* Customer A would have 1370 points at the end of January and Customer B would have 820 points."
   ]
  },
  {
   "cell_type": "markdown",
   "id": "5ee898e5",
   "metadata": {},
   "source": [
    "### Bonus Question # 1\n",
    "* Create a table with the columns customer_id, order_date, product_name, and price.\n",
    "* Add a new column called member. The value of member should be 'N' if the order took place before a customer became a member and 'Y' if the order took place after the customer became a member."
   ]
  },
  {
   "cell_type": "code",
   "execution_count": 93,
   "id": "89b0ccd6",
   "metadata": {},
   "outputs": [
    {
     "name": "stdout",
     "output_type": "stream",
     "text": [
      " * sqlite://\n",
      "Done.\n"
     ]
    },
    {
     "data": {
      "text/html": [
       "<table>\n",
       "    <thead>\n",
       "        <tr>\n",
       "            <th>customer_id</th>\n",
       "            <th>order_date</th>\n",
       "            <th>product_name</th>\n",
       "            <th>price</th>\n",
       "            <th>member</th>\n",
       "        </tr>\n",
       "    </thead>\n",
       "    <tbody>\n",
       "        <tr>\n",
       "            <td>A</td>\n",
       "            <td>2021-01-01</td>\n",
       "            <td>sushi</td>\n",
       "            <td>10</td>\n",
       "            <td>N</td>\n",
       "        </tr>\n",
       "        <tr>\n",
       "            <td>A</td>\n",
       "            <td>2021-01-01</td>\n",
       "            <td>curry</td>\n",
       "            <td>15</td>\n",
       "            <td>N</td>\n",
       "        </tr>\n",
       "        <tr>\n",
       "            <td>A</td>\n",
       "            <td>2021-01-07</td>\n",
       "            <td>curry</td>\n",
       "            <td>15</td>\n",
       "            <td>Y</td>\n",
       "        </tr>\n",
       "        <tr>\n",
       "            <td>A</td>\n",
       "            <td>2021-01-10</td>\n",
       "            <td>ramen</td>\n",
       "            <td>12</td>\n",
       "            <td>Y</td>\n",
       "        </tr>\n",
       "        <tr>\n",
       "            <td>A</td>\n",
       "            <td>2021-01-11</td>\n",
       "            <td>ramen</td>\n",
       "            <td>12</td>\n",
       "            <td>Y</td>\n",
       "        </tr>\n",
       "        <tr>\n",
       "            <td>A</td>\n",
       "            <td>2021-01-11</td>\n",
       "            <td>ramen</td>\n",
       "            <td>12</td>\n",
       "            <td>Y</td>\n",
       "        </tr>\n",
       "        <tr>\n",
       "            <td>B</td>\n",
       "            <td>2021-01-01</td>\n",
       "            <td>curry</td>\n",
       "            <td>15</td>\n",
       "            <td>N</td>\n",
       "        </tr>\n",
       "        <tr>\n",
       "            <td>B</td>\n",
       "            <td>2021-01-02</td>\n",
       "            <td>curry</td>\n",
       "            <td>15</td>\n",
       "            <td>N</td>\n",
       "        </tr>\n",
       "        <tr>\n",
       "            <td>B</td>\n",
       "            <td>2021-01-04</td>\n",
       "            <td>sushi</td>\n",
       "            <td>10</td>\n",
       "            <td>N</td>\n",
       "        </tr>\n",
       "        <tr>\n",
       "            <td>B</td>\n",
       "            <td>2021-01-11</td>\n",
       "            <td>sushi</td>\n",
       "            <td>10</td>\n",
       "            <td>Y</td>\n",
       "        </tr>\n",
       "        <tr>\n",
       "            <td>B</td>\n",
       "            <td>2021-01-16</td>\n",
       "            <td>ramen</td>\n",
       "            <td>12</td>\n",
       "            <td>Y</td>\n",
       "        </tr>\n",
       "        <tr>\n",
       "            <td>B</td>\n",
       "            <td>2021-02-01</td>\n",
       "            <td>ramen</td>\n",
       "            <td>12</td>\n",
       "            <td>Y</td>\n",
       "        </tr>\n",
       "        <tr>\n",
       "            <td>C</td>\n",
       "            <td>2021-01-01</td>\n",
       "            <td>ramen</td>\n",
       "            <td>12</td>\n",
       "            <td>N</td>\n",
       "        </tr>\n",
       "        <tr>\n",
       "            <td>C</td>\n",
       "            <td>2021-01-01</td>\n",
       "            <td>ramen</td>\n",
       "            <td>12</td>\n",
       "            <td>N</td>\n",
       "        </tr>\n",
       "        <tr>\n",
       "            <td>C</td>\n",
       "            <td>2021-01-07</td>\n",
       "            <td>ramen</td>\n",
       "            <td>12</td>\n",
       "            <td>N</td>\n",
       "        </tr>\n",
       "    </tbody>\n",
       "</table>"
      ],
      "text/plain": [
       "[('A', '2021-01-01', 'sushi', 10, 'N'),\n",
       " ('A', '2021-01-01', 'curry', 15, 'N'),\n",
       " ('A', '2021-01-07', 'curry', 15, 'Y'),\n",
       " ('A', '2021-01-10', 'ramen', 12, 'Y'),\n",
       " ('A', '2021-01-11', 'ramen', 12, 'Y'),\n",
       " ('A', '2021-01-11', 'ramen', 12, 'Y'),\n",
       " ('B', '2021-01-01', 'curry', 15, 'N'),\n",
       " ('B', '2021-01-02', 'curry', 15, 'N'),\n",
       " ('B', '2021-01-04', 'sushi', 10, 'N'),\n",
       " ('B', '2021-01-11', 'sushi', 10, 'Y'),\n",
       " ('B', '2021-01-16', 'ramen', 12, 'Y'),\n",
       " ('B', '2021-02-01', 'ramen', 12, 'Y'),\n",
       " ('C', '2021-01-01', 'ramen', 12, 'N'),\n",
       " ('C', '2021-01-01', 'ramen', 12, 'N'),\n",
       " ('C', '2021-01-07', 'ramen', 12, 'N')]"
      ]
     },
     "execution_count": 93,
     "metadata": {},
     "output_type": "execute_result"
    }
   ],
   "source": [
    "%%sql\n",
    "SELECT\n",
    "    sales.customer_id,\n",
    "    sales.order_date,\n",
    "    menu.product_name,\n",
    "    menu.price,\n",
    "    (CASE WHEN sales.order_date >= members.join_date THEN 'Y'\n",
    "    ELSE 'N'\n",
    "    END) as member\n",
    "FROM sales\n",
    "JOIN menu\n",
    "ON sales.product_id = menu.product_id\n",
    "LEFT JOIN members\n",
    "ON sales.customer_id = members.customer_id"
   ]
  },
  {
   "cell_type": "markdown",
   "id": "fc7483cb",
   "metadata": {},
   "source": [
    "### Bonus Question # 2\n",
    "* Take the table you created in Bonus Question # 1\n",
    "* Add a new column called ranking. The value of ranking should be null if the order took place before a customer became a member. If the order took place after the customer became a member, then add a rank to each order. For example, the first order that took place after a customer became a member should be 1. If two orders took place on the same day, they should have the same ranking."
   ]
  },
  {
   "cell_type": "code",
   "execution_count": 130,
   "id": "9b15d845",
   "metadata": {},
   "outputs": [
    {
     "name": "stdout",
     "output_type": "stream",
     "text": [
      " * sqlite://\n",
      "Done.\n"
     ]
    },
    {
     "data": {
      "text/html": [
       "<table>\n",
       "    <thead>\n",
       "        <tr>\n",
       "            <th>customer_id</th>\n",
       "            <th>order_date</th>\n",
       "            <th>product_name</th>\n",
       "            <th>price</th>\n",
       "            <th>member</th>\n",
       "            <th>ranking</th>\n",
       "        </tr>\n",
       "    </thead>\n",
       "    <tbody>\n",
       "        <tr>\n",
       "            <td>A</td>\n",
       "            <td>2021-01-01</td>\n",
       "            <td>sushi</td>\n",
       "            <td>10</td>\n",
       "            <td>N</td>\n",
       "            <td>null</td>\n",
       "        </tr>\n",
       "        <tr>\n",
       "            <td>A</td>\n",
       "            <td>2021-01-01</td>\n",
       "            <td>curry</td>\n",
       "            <td>15</td>\n",
       "            <td>N</td>\n",
       "            <td>null</td>\n",
       "        </tr>\n",
       "        <tr>\n",
       "            <td>A</td>\n",
       "            <td>2021-01-07</td>\n",
       "            <td>curry</td>\n",
       "            <td>15</td>\n",
       "            <td>Y</td>\n",
       "            <td>1</td>\n",
       "        </tr>\n",
       "        <tr>\n",
       "            <td>A</td>\n",
       "            <td>2021-01-10</td>\n",
       "            <td>ramen</td>\n",
       "            <td>12</td>\n",
       "            <td>Y</td>\n",
       "            <td>2</td>\n",
       "        </tr>\n",
       "        <tr>\n",
       "            <td>A</td>\n",
       "            <td>2021-01-11</td>\n",
       "            <td>ramen</td>\n",
       "            <td>12</td>\n",
       "            <td>Y</td>\n",
       "            <td>3</td>\n",
       "        </tr>\n",
       "        <tr>\n",
       "            <td>A</td>\n",
       "            <td>2021-01-11</td>\n",
       "            <td>ramen</td>\n",
       "            <td>12</td>\n",
       "            <td>Y</td>\n",
       "            <td>3</td>\n",
       "        </tr>\n",
       "        <tr>\n",
       "            <td>B</td>\n",
       "            <td>2021-01-01</td>\n",
       "            <td>curry</td>\n",
       "            <td>15</td>\n",
       "            <td>N</td>\n",
       "            <td>null</td>\n",
       "        </tr>\n",
       "        <tr>\n",
       "            <td>B</td>\n",
       "            <td>2021-01-02</td>\n",
       "            <td>curry</td>\n",
       "            <td>15</td>\n",
       "            <td>N</td>\n",
       "            <td>null</td>\n",
       "        </tr>\n",
       "        <tr>\n",
       "            <td>B</td>\n",
       "            <td>2021-01-04</td>\n",
       "            <td>sushi</td>\n",
       "            <td>10</td>\n",
       "            <td>N</td>\n",
       "            <td>null</td>\n",
       "        </tr>\n",
       "        <tr>\n",
       "            <td>B</td>\n",
       "            <td>2021-01-11</td>\n",
       "            <td>sushi</td>\n",
       "            <td>10</td>\n",
       "            <td>Y</td>\n",
       "            <td>1</td>\n",
       "        </tr>\n",
       "        <tr>\n",
       "            <td>B</td>\n",
       "            <td>2021-01-16</td>\n",
       "            <td>ramen</td>\n",
       "            <td>12</td>\n",
       "            <td>Y</td>\n",
       "            <td>2</td>\n",
       "        </tr>\n",
       "        <tr>\n",
       "            <td>B</td>\n",
       "            <td>2021-02-01</td>\n",
       "            <td>ramen</td>\n",
       "            <td>12</td>\n",
       "            <td>Y</td>\n",
       "            <td>3</td>\n",
       "        </tr>\n",
       "        <tr>\n",
       "            <td>C</td>\n",
       "            <td>2021-01-01</td>\n",
       "            <td>ramen</td>\n",
       "            <td>12</td>\n",
       "            <td>N</td>\n",
       "            <td>null</td>\n",
       "        </tr>\n",
       "        <tr>\n",
       "            <td>C</td>\n",
       "            <td>2021-01-01</td>\n",
       "            <td>ramen</td>\n",
       "            <td>12</td>\n",
       "            <td>N</td>\n",
       "            <td>null</td>\n",
       "        </tr>\n",
       "        <tr>\n",
       "            <td>C</td>\n",
       "            <td>2021-01-07</td>\n",
       "            <td>ramen</td>\n",
       "            <td>12</td>\n",
       "            <td>N</td>\n",
       "            <td>null</td>\n",
       "        </tr>\n",
       "    </tbody>\n",
       "</table>"
      ],
      "text/plain": [
       "[('A', '2021-01-01', 'sushi', 10, 'N', 'null'),\n",
       " ('A', '2021-01-01', 'curry', 15, 'N', 'null'),\n",
       " ('A', '2021-01-07', 'curry', 15, 'Y', 1),\n",
       " ('A', '2021-01-10', 'ramen', 12, 'Y', 2),\n",
       " ('A', '2021-01-11', 'ramen', 12, 'Y', 3),\n",
       " ('A', '2021-01-11', 'ramen', 12, 'Y', 3),\n",
       " ('B', '2021-01-01', 'curry', 15, 'N', 'null'),\n",
       " ('B', '2021-01-02', 'curry', 15, 'N', 'null'),\n",
       " ('B', '2021-01-04', 'sushi', 10, 'N', 'null'),\n",
       " ('B', '2021-01-11', 'sushi', 10, 'Y', 1),\n",
       " ('B', '2021-01-16', 'ramen', 12, 'Y', 2),\n",
       " ('B', '2021-02-01', 'ramen', 12, 'Y', 3),\n",
       " ('C', '2021-01-01', 'ramen', 12, 'N', 'null'),\n",
       " ('C', '2021-01-01', 'ramen', 12, 'N', 'null'),\n",
       " ('C', '2021-01-07', 'ramen', 12, 'N', 'null')]"
      ]
     },
     "execution_count": 130,
     "metadata": {},
     "output_type": "execute_result"
    }
   ],
   "source": [
    "%%sql\n",
    "WITH cte AS (\n",
    "SELECT\n",
    "    sales.customer_id,\n",
    "    sales.order_date,\n",
    "    menu.product_name,\n",
    "    menu.price,\n",
    "    (CASE WHEN sales.order_date >= members.join_date THEN 'Y'\n",
    "    ELSE 'N'\n",
    "    END) as member\n",
    "FROM sales\n",
    "JOIN menu\n",
    "ON sales.product_id = menu.product_id\n",
    "LEFT JOIN members\n",
    "ON sales.customer_id = members.customer_id\n",
    ")\n",
    "\n",
    "SELECT\n",
    "    *,\n",
    "    (CASE WHEN member = 'N' THEN 'null'\n",
    "     WHEN member = 'Y' THEN DENSE_RANK() OVER (PARTITION BY customer_id, member ORDER BY order_date)\n",
    "     END) as ranking\n",
    "FROM cte\n",
    "ORDER BY 1"
   ]
  },
  {
   "cell_type": "code",
   "execution_count": null,
   "id": "e312154a",
   "metadata": {},
   "outputs": [],
   "source": []
  }
 ],
 "metadata": {
  "kernelspec": {
   "display_name": "Python 3 (ipykernel)",
   "language": "python",
   "name": "python3"
  },
  "language_info": {
   "codemirror_mode": {
    "name": "ipython",
    "version": 3
   },
   "file_extension": ".py",
   "mimetype": "text/x-python",
   "name": "python",
   "nbconvert_exporter": "python",
   "pygments_lexer": "ipython3",
   "version": "3.9.7"
  }
 },
 "nbformat": 4,
 "nbformat_minor": 5
}
